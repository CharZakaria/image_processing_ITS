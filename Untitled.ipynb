{
 "cells": [
  {
   "cell_type": "code",
   "execution_count": 2,
   "metadata": {},
   "outputs": [
    {
     "name": "stdout",
     "output_type": "stream",
     "text": [
      "('multi output score : ', 2.8447169967880184)\n",
      "('final score : ', [1.6895002328828683, 0.37379967035377382, 8.3746686310882872, 0.94089945282714538])\n"
     ]
    }
   ],
   "source": [
    "from sklearn.multioutput import MultiOutputRegressor\n",
    "from sklearn.linear_model import LinearRegression\n",
    "from sklearn.metrics import mean_squared_error\n",
    "from sklearn.model_selection import train_test_split\n",
    "import pandas as pd \n",
    "import numpy as np\n",
    "\n",
    "df=pd.read_csv(\"img_new_stat.csv\")\n",
    "\n",
    "train, test = train_test_split(df, test_size=0.2)\n",
    "\n",
    "X=train.drop(columns = ['image','p1' , 'p2', 'p3', 'p4'])\n",
    "Y=train[['p1' , 'p2', 'p3', 'p4']].copy()\n",
    "\n",
    "X_test=test.drop(columns = ['image','p1' , 'p2', 'p3', 'p4'])\n",
    "Y_test=test[['p1' , 'p2', 'p3', 'p4']].copy()\n",
    "est= LinearRegression()\n",
    "clf = MultiOutputRegressor(est)\n",
    "clf.fit(X,Y)\n",
    "# score = clf.score(X_test,Y_test)\n",
    "Y_predict = clf.predict(X_test) \n",
    "score = mean_squared_error(Y_test,Y_predict, multioutput=[0.25,0.25,0.25,0.25])\n",
    "print(\"multi output score : \",score)\n",
    "\n",
    "reg=LinearRegression()\n",
    "reg.fit(X,train['p1'])\n",
    "y0 = reg.predict(X_test)\n",
    "score1 = mean_squared_error(Y_test['p1'],y0)\n",
    "\n",
    "re2=LinearRegression()\n",
    "re2.fit(X,train['p2'])\n",
    "y2 = re2.predict(X_test)\n",
    "score2 = mean_squared_error(Y_test['p2'],y2)\n",
    "\n",
    "re3=LinearRegression()\n",
    "re3.fit(X,train['p3'])\n",
    "y3 = re3.predict(X_test)\n",
    "score3 = mean_squared_error(Y_test['p3'],y3)\n",
    "\n",
    "\n",
    "re4=LinearRegression()\n",
    "re4.fit(X,train['p4'])\n",
    "y4 = re4.predict(X_test)\n",
    "score4 = mean_squared_error(Y_test['p4'],y4)\n",
    "\n",
    "score = [score1,score2,score3,score4]\n",
    "print(\"final score : \",score)\n"
   ]
  },
  {
   "cell_type": "code",
   "execution_count": null,
   "metadata": {},
   "outputs": [],
   "source": [
    "from sklearn.multioutput import MultiOutputClassifier\n",
    "from sklearn.linear_model import LinearRegression\n",
    "from sklearn.metrics import mean_squared_error\n",
    "from sklearn.model_selection import train_test_split\n",
    "import pandas as pd \n",
    "import numpy as np\n",
    "\n",
    "df=pd.read_csv(\"data_stat_all.csv\")\n",
    "\n",
    "train, test = train_test_split(df, test_size=0.2)\n",
    "\n",
    "X=train.drop(columns = ['image','p1' , 'p2', 'p3', 'p4'])\n",
    "Y=train[['p1' , 'p2', 'p3', 'p4']].copy()\n",
    "\n",
    "X_test=test.drop(columns = ['image','p1' , 'p2', 'p3', 'p4'])\n",
    "Y_test=test[['p1' , 'p2', 'p3', 'p4']].copy()"
   ]
  },
  {
   "cell_type": "code",
   "execution_count": 34,
   "metadata": {},
   "outputs": [
    {
     "name": "stdout",
     "output_type": "stream",
     "text": [
      "multi output score :  3.0191215426191755\n",
      "MultiOutputRegressor(estimator=LinearRegression(copy_X=True, fit_intercept=False, n_jobs=1, normalize=True),\n",
      "           n_jobs=1)\n",
      "p1 : LinearRegression(copy_X=True, fit_intercept=False, n_jobs=1, normalize=True)\n",
      "p2 : LinearRegression(copy_X=True, fit_intercept=False, n_jobs=1, normalize=True)\n",
      "p3 : LinearRegression(copy_X=True, fit_intercept=True, n_jobs=1, normalize=False)\n",
      "p4 : LinearRegression(copy_X=True, fit_intercept=False, n_jobs=1, normalize=True)\n",
      "final score :  [3.3823300917350654, 5.751646069551234, 7.610177348391316, 9.52967427927929]\n"
     ]
    }
   ],
   "source": [
    "from sklearn.model_selection import GridSearchCV\n",
    "from sklearn.multioutput import MultiOutputRegressor\n",
    "from sklearn.linear_model import LinearRegression\n",
    "from sklearn.metrics import mean_squared_error\n",
    "from sklearn.model_selection import train_test_split\n",
    "import pandas as pd \n",
    "import numpy as np\n",
    "\n",
    "df=pd.read_csv(\"data_stat_all.csv\")\n",
    "\n",
    "train, test = train_test_split(df, test_size=0.2)\n",
    "\n",
    "X=train.drop(columns = ['image','p1' , 'p2', 'p3', 'p4'])\n",
    "Y=train[['p1' , 'p2', 'p3', 'p4']].copy()\n",
    "\n",
    "X_test=test.drop(columns = ['image','p1' , 'p2', 'p3', 'p4'])\n",
    "Y_test=test[['p1' , 'p2', 'p3', 'p4']].copy()\n",
    "\n",
    "# ---------Auto tuning: GridSearch over MultiOutputRegressor\n",
    "\n",
    "parameters = {'estimator__fit_intercept':[True,False], 'estimator__normalize':[True,False], 'estimator__copy_X':[True, False]}\n",
    "\n",
    "clf_LinReg= LinearRegression()\n",
    "MultiReg=GridSearchCV(MultiOutputRegressor(clf_LinReg),parameters)\n",
    "\n",
    "MultiReg.fit(X,Y)\n",
    "\n",
    "\n",
    "# score = clf.score(X_test,Y_test)\n",
    "Y_predict = MultiReg.predict(X_test) \n",
    "score = mean_squared_error(Y_test,Y_predict, multioutput=[0.25,0.25,0.25,0.25])\n",
    "print(\"multi output score : \",score)\n",
    "print(MultiReg.best_estimator_     )\n",
    "\n",
    "# ---------Auto tuning: GridSearch over LinearRegression\n",
    "parameters = {'fit_intercept':[True,False], 'normalize':[True,False], 'copy_X':[True, False]}\n",
    "\n",
    "clf_LinReg= LinearRegression()\n",
    "clf=GridSearchCV(clf_LinReg,parameters)\n",
    "\n",
    "clf.fit(X,train['p1'])\n",
    "y0 = reg.predict(X_test)\n",
    "score1 = mean_squared_error(Y_test['p1'],y0)\n",
    "print(\"p1 :\" ,clf.best_estimator_     )\n",
    "\n",
    "\n",
    "clf_LinReg= LinearRegression()\n",
    "clf=GridSearchCV(clf_LinReg,parameters)\n",
    "\n",
    "clf.fit(X,train['p2'])\n",
    "y0 = reg.predict(X_test)\n",
    "score2 = mean_squared_error(Y_test['p2'],y0)\n",
    "print(\"p2 :\" ,clf.best_estimator_     )\n",
    "\n",
    "clf_LinReg= LinearRegression()\n",
    "clf=GridSearchCV(clf_LinReg,parameters)\n",
    "\n",
    "clf.fit(X,train['p3'])\n",
    "y0 = reg.predict(X_test)\n",
    "score3 = mean_squared_error(Y_test['p3'],y0)\n",
    "print(\"p3 :\" ,clf.best_estimator_     )\n",
    "\n",
    "clf_LinReg= LinearRegression()\n",
    "clf=GridSearchCV(clf_LinReg,parameters)\n",
    "\n",
    "clf.fit(X,train['p4'])\n",
    "y0 = reg.predict(X_test)\n",
    "score4 = mean_squared_error(Y_test['p4'],y0)\n",
    "print(\"p4 :\" ,clf.best_estimator_     )\n",
    "\n",
    "score = [score1,score2,score3,score4]\n",
    "print(\"final score : \",score)\n",
    "\n"
   ]
  },
  {
   "cell_type": "code",
   "execution_count": 4,
   "metadata": {},
   "outputs": [],
   "source": [
    "from sklearn.multioutput import MultiOutputRegressor\n",
    "from sklearn.linear_model import LinearRegression\n",
    "from sklearn.metrics import mean_squared_error\n",
    "from sklearn.model_selection import train_test_split\n",
    "import pandas as pd \n",
    "import numpy as np\n",
    "\n",
    "df=pd.read_csv(\"new_data.csv\")\n",
    "\n",
    "train, test = train_test_split(df, test_size=0.2)\n",
    "\n",
    "X=train.drop(columns = ['image','p1' , 'p2', 'p3', 'p4'])\n",
    "Y=train[['p1' , 'p2', 'p3', 'p4']].copy()\n",
    "\n",
    "X_test=test.drop(columns = ['image','p1' , 'p2', 'p3', 'p4'])\n",
    "Y_test=test[['p1' , 'p2', 'p3', 'p4']].copy()"
   ]
  },
  {
   "cell_type": "code",
   "execution_count": 5,
   "metadata": {},
   "outputs": [
    {
     "data": {
      "text/plain": [
       "21.186119873817034"
      ]
     },
     "execution_count": 5,
     "metadata": {},
     "output_type": "execute_result"
    }
   ],
   "source": [
    "from sklearn.naive_bayes import GaussianNB\n",
    "gnb = GaussianNB()\n",
    "gnb.fit(X,train['p1'])\n",
    "Y_predict = gnb.predict(X_test) \n",
    "score1 = mean_squared_error(Y_test['p1'],Y_predict)\n",
    "score1"
   ]
  },
  {
   "cell_type": "code",
   "execution_count": 6,
   "metadata": {},
   "outputs": [
    {
     "data": {
      "text/plain": [
       "21.186119873817034"
      ]
     },
     "execution_count": 6,
     "metadata": {},
     "output_type": "execute_result"
    }
   ],
   "source": [
    "from sklearn.naive_bayes import GaussianNB\n",
    "gnb = GaussianNB()\n",
    "gnb.fit(X,train['p1'])\n",
    "Y_predict = gnb.predict(X_test) \n",
    "score1 = mean_squared_error(Y_test['p1'],Y_predict)\n",
    "score1"
   ]
  },
  {
   "cell_type": "code",
   "execution_count": 7,
   "metadata": {},
   "outputs": [
    {
     "data": {
      "text/plain": [
       "0.56151419558359617"
      ]
     },
     "execution_count": 7,
     "metadata": {},
     "output_type": "execute_result"
    }
   ],
   "source": [
    "gnb = GaussianNB()\n",
    "gnb.fit(X,train['p2'])\n",
    "Y_predict = gnb.predict(X_test) \n",
    "score2 = mean_squared_error(Y_test['p2'],Y_predict)\n",
    "score2"
   ]
  },
  {
   "cell_type": "code",
   "execution_count": 16,
   "metadata": {},
   "outputs": [
    {
     "data": {
      "text/plain": [
       "10.839116719242902"
      ]
     },
     "execution_count": 16,
     "metadata": {},
     "output_type": "execute_result"
    }
   ],
   "source": [
    "gnb = GaussianNB()\n",
    "gnb.fit(X,train['p3'])\n",
    "Y_predict = gnb.predict(X_test) \n",
    "score3 = mean_squared_error(Y_test['p3'],Y_predict)\n",
    "score3"
   ]
  },
  {
   "cell_type": "code",
   "execution_count": 8,
   "metadata": {},
   "outputs": [
    {
     "data": {
      "text/plain": [
       "1.5709779179810726"
      ]
     },
     "execution_count": 8,
     "metadata": {},
     "output_type": "execute_result"
    }
   ],
   "source": [
    "gnb = GaussianNB()\n",
    "gnb.fit(X,train['p4'])\n",
    "Y_predict = gnb.predict(X_test) \n",
    "score4 = mean_squared_error(Y_test['p4'],Y_predict)\n",
    "score4"
   ]
  },
  {
   "cell_type": "code",
   "execution_count": 9,
   "metadata": {},
   "outputs": [],
   "source": [
    "from sklearn.metrics import accuracy_score"
   ]
  },
  {
   "cell_type": "code",
   "execution_count": 10,
   "metadata": {},
   "outputs": [
    {
     "data": {
      "text/plain": [
       "0.86750788643533128"
      ]
     },
     "execution_count": 10,
     "metadata": {},
     "output_type": "execute_result"
    }
   ],
   "source": [
    "from sklearn.naive_bayes import GaussianNB\n",
    "gnb = GaussianNB()\n",
    "gnb.fit(X,train['p1'])\n",
    "Y_predict = gnb.predict(X_test)\n",
    "score_acc1 = accuracy_score(Y_test['p1'],Y_predict)\n",
    "score_acc1"
   ]
  },
  {
   "cell_type": "code",
   "execution_count": 11,
   "metadata": {},
   "outputs": [
    {
     "data": {
      "text/plain": [
       "0.74447949526813884"
      ]
     },
     "execution_count": 11,
     "metadata": {},
     "output_type": "execute_result"
    }
   ],
   "source": [
    "gnb = GaussianNB()\n",
    "gnb.fit(X,train['p2'])\n",
    "Y_predict = gnb.predict(X_test)\n",
    "score_acc2 = accuracy_score(Y_test['p2'],Y_predict)\n",
    "score_acc2"
   ]
  },
  {
   "cell_type": "code",
   "execution_count": 12,
   "metadata": {},
   "outputs": [
    {
     "data": {
      "text/plain": [
       "0.83596214511041012"
      ]
     },
     "execution_count": 12,
     "metadata": {},
     "output_type": "execute_result"
    }
   ],
   "source": [
    "gnb = GaussianNB()\n",
    "gnb.fit(X,train['p3'])\n",
    "Y_predict = gnb.predict(X_test)\n",
    "score_acc3 = accuracy_score(Y_test['p3'],Y_predict)\n",
    "score_acc3\n"
   ]
  },
  {
   "cell_type": "code",
   "execution_count": 8,
   "metadata": {},
   "outputs": [
    {
     "data": {
      "text/plain": [
       "0.73186119873817035"
      ]
     },
     "execution_count": 8,
     "metadata": {},
     "output_type": "execute_result"
    }
   ],
   "source": [
    "gnb = GaussianNB()\n",
    "gnb.fit(X,train['p4'])\n",
    "Y_predict = gnb.predict(X_test)\n",
    "score_acc4 = accuracy_score(Y_test['p4'],Y_predict)\n",
    "score_acc4"
   ]
  },
  {
   "cell_type": "code",
   "execution_count": 13,
   "metadata": {},
   "outputs": [
    {
     "data": {
      "text/plain": [
       "0.91167192429022081"
      ]
     },
     "execution_count": 13,
     "metadata": {},
     "output_type": "execute_result"
    }
   ],
   "source": [
    "from sklearn.neighbors import KNeighborsClassifier\n",
    "gnb = KNeighborsClassifier(n_neighbors=4)\n",
    "gnb.fit(X,train['p1'])\n",
    "Y_predict = gnb.predict(X_test)\n",
    "score_acc1 = accuracy_score(Y_test['p1'],Y_predict)\n",
    "score_acc1                               "
   ]
  },
  {
   "cell_type": "code",
   "execution_count": 14,
   "metadata": {},
   "outputs": [
    {
     "data": {
      "text/plain": [
       "0.73817034700315454"
      ]
     },
     "execution_count": 14,
     "metadata": {},
     "output_type": "execute_result"
    }
   ],
   "source": [
    "gnb = KNeighborsClassifier(n_neighbors=4)\n",
    "gnb.fit(X,train['p2'])\n",
    "Y_predict = gnb.predict(X_test)\n",
    "score_acc2 = accuracy_score(Y_test['p2'],Y_predict)\n",
    "score_acc2"
   ]
  },
  {
   "cell_type": "code",
   "execution_count": 15,
   "metadata": {},
   "outputs": [
    {
     "data": {
      "text/plain": [
       "0.82965299684542582"
      ]
     },
     "execution_count": 15,
     "metadata": {},
     "output_type": "execute_result"
    }
   ],
   "source": [
    "gnb = KNeighborsClassifier(n_neighbors=4)\n",
    "gnb.fit(X,train['p3'])\n",
    "Y_predict = gnb.predict(X_test)\n",
    "score_acc3 = accuracy_score(Y_test['p3'],Y_predict)\n",
    "score_acc3"
   ]
  },
  {
   "cell_type": "code",
   "execution_count": 16,
   "metadata": {},
   "outputs": [
    {
     "data": {
      "text/plain": [
       "0.72555205047318616"
      ]
     },
     "execution_count": 16,
     "metadata": {},
     "output_type": "execute_result"
    }
   ],
   "source": [
    "gnb = KNeighborsClassifier(n_neighbors=4)\n",
    "gnb.fit(X,train['p4'])\n",
    "Y_predict = gnb.predict(X_test)\n",
    "score_acc4 = accuracy_score(Y_test['p4'],Y_predict)\n",
    "score_acc4"
   ]
  },
  {
   "cell_type": "code",
   "execution_count": null,
   "metadata": {},
   "outputs": [],
   "source": []
  }
 ],
 "metadata": {
  "kernelspec": {
   "display_name": "Python 2",
   "language": "python",
   "name": "python2"
  },
  "language_info": {
   "codemirror_mode": {
    "name": "ipython",
    "version": 2
   },
   "file_extension": ".py",
   "mimetype": "text/x-python",
   "name": "python",
   "nbconvert_exporter": "python",
   "pygments_lexer": "ipython2",
   "version": "2.7.15"
  }
 },
 "nbformat": 4,
 "nbformat_minor": 2
}
